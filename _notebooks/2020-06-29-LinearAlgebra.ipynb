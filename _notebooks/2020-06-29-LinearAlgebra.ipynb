{
 "cells": [
  {
   "cell_type": "markdown",
   "metadata": {},
   "source": [
    "# Linear Algebra Quick Reference\n",
    "> \"Notes on key LA concepts\"\n",
    "\n",
    "- toc: true\n",
    "- branch: master\n",
    "- badges: true\n",
    "- comments: true\n",
    "- categories: [Linear Algebra]\n",
    "- image: images/some_folder/your_image.png\n",
    "- hide: false\n",
    "- search_exclude: false\n",
    "- metadata_key1: metadata_value1\n",
    "- metadata_key2: metadata_value2"
   ]
  },
  {
   "cell_type": "code",
   "execution_count": 3,
   "metadata": {},
   "outputs": [
    {
     "data": {
      "text/plain": [
       "<function seaborn.rcmod.set(context='notebook', style='darkgrid', palette='deep', font='sans-serif', font_scale=1, color_codes=True, rc=None)>"
      ]
     },
     "execution_count": 3,
     "metadata": {},
     "output_type": "execute_result"
    }
   ],
   "source": [
    "#hide\n",
    "import pandas as pd\n",
    "import numpy as np\n",
    "import matplotlib.pyplot as plt\n",
    "import seaborn as sns\n",
    "%matplotlib inline\n",
    "sns.set"
   ]
  },
  {
   "cell_type": "markdown",
   "metadata": {},
   "source": [
    "# Definitions"
   ]
  },
  {
   "cell_type": "markdown",
   "metadata": {},
   "source": [
    "The two primary mathematical entities that are of interest in linear algebra are the vector and the matrix. They are examples of a more general entity known as a `tensor`. Tensors possess an order (or rank), which determines the number of dimensions in an array required to represent it. Source:[quantstart](https://www.quantstart.com/articles/scalars-vectors-matrices-and-tensors-linear-algebra-for-deep-learning-part-1/#:~:text=Vectors%20and%20Matrices,array%20required%20to%20represent%20it.)\n",
    "\n",
    "`Scalars` are single numbers and are an example of a **0th-order tensor**.   $ \\to x \\in \\mathbb{R}$  \n",
    "`Vectors` are ordered arrays of single numbers and are an example of **1st-order tensor**.  \n",
    "`Matrices` are rectangular arrays consisting of numbers and are an example of **2nd-order tensors**."
   ]
  },
  {
   "cell_type": "markdown",
   "metadata": {},
   "source": [
    "### Vectors\n",
    "$ x \\in \\mathbb{R}^n$  define a vector with n elements in the space of real numbers. \n",
    "\n",
    "\n",
    "By default, vectors are generally represented as columns\n",
    "$x = \n",
    "\\left[\n",
    "\\begin{matrix}\n",
    "x_{1}\\\\ x_{2}\\\\ \\vdots\\\\x_{n}\\\\\n",
    "\\end{matrix}\n",
    "\\right]\n",
    "$  and the row vector is the transpose\n",
    "$\n",
    "x^T = \n",
    "\\left[\n",
    "\\begin{matrix}\n",
    "x_{1} \\ x_{2}\\ \\cdots \\  x_{n}\\\\\n",
    "\\end{matrix}\n",
    "\\right]\n",
    "$ \n",
    "\n",
    "#### Operations on Vectors\n",
    "\n",
    " - scalar + vector\n",
    " - scalar x vector\n",
    " - sum (subtraction): $x \\pm y = y \\pm x$\t  \n",
    " - dot product: \n",
    " - vector dot vector"
   ]
  },
  {
   "cell_type": "markdown",
   "metadata": {},
   "source": [
    "### Matrices\n",
    " $ A \\in \\mathbb{R} ^{m x n} $ is a matrix with **m rows** and **n columns**, where the elements of A are real numbers.\n",
    "$ A = \n",
    "\\left[\n",
    "\\begin{matrix}\n",
    "a_{11} & a_{12} & \\cdots & a_{1n}\\\\\n",
    "a_{21} & a_{22} & \\cdots & a_{2n}\\\\\n",
    "\\vdots & \\vdots & \\cdots & \\vdots\\\\\n",
    "a_{m1} & a_{m2} & \\cdots & a_{mn}\\\\\n",
    "\\end{matrix}\n",
    "\\right]\n",
    "$"
   ]
  },
  {
   "cell_type": "markdown",
   "metadata": {},
   "source": [
    "Sources: add and additional reading here"
   ]
  },
  {
   "cell_type": "code",
   "execution_count": null,
   "metadata": {},
   "outputs": [],
   "source": []
  }
 ],
 "metadata": {
  "kernelspec": {
   "display_name": "Python 3",
   "language": "python",
   "name": "python3"
  },
  "language_info": {
   "codemirror_mode": {
    "name": "ipython",
    "version": 3
   },
   "file_extension": ".py",
   "mimetype": "text/x-python",
   "name": "python",
   "nbconvert_exporter": "python",
   "pygments_lexer": "ipython3",
   "version": "3.7.6"
  }
 },
 "nbformat": 4,
 "nbformat_minor": 4
}
